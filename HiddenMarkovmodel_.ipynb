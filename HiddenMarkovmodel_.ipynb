{
  "nbformat": 4,
  "nbformat_minor": 0,
  "metadata": {
    "colab": {
      "provenance": []
    },
    "kernelspec": {
      "name": "python3",
      "display_name": "Python 3"
    },
    "language_info": {
      "name": "python"
    }
  },
  "cells": [
    {
      "cell_type": "code",
      "execution_count": 2,
      "metadata": {
        "colab": {
          "base_uri": "https://localhost:8080/"
        },
        "id": "WkQe6Ydgn4MA",
        "outputId": "4ec62e9a-a8c1-42af-d2fd-dd7e2f7dab41"
      },
      "outputs": [
        {
          "output_type": "stream",
          "name": "stdout",
          "text": [
            "Collecting hmmlearn\n",
            "  Downloading hmmlearn-0.3.0-cp310-cp310-manylinux_2_17_x86_64.manylinux2014_x86_64.whl (160 kB)\n",
            "\u001b[2K     \u001b[90m━━━━━━━━━━━━━━━━━━━━━━━━━━━━━━━━━━━━━━━━\u001b[0m \u001b[32m160.4/160.4 kB\u001b[0m \u001b[31m2.6 MB/s\u001b[0m eta \u001b[36m0:00:00\u001b[0m\n",
            "\u001b[?25hRequirement already satisfied: numpy>=1.10 in /usr/local/lib/python3.10/dist-packages (from hmmlearn) (1.23.5)\n",
            "Requirement already satisfied: scikit-learn!=0.22.0,>=0.16 in /usr/local/lib/python3.10/dist-packages (from hmmlearn) (1.2.2)\n",
            "Requirement already satisfied: scipy>=0.19 in /usr/local/lib/python3.10/dist-packages (from hmmlearn) (1.11.3)\n",
            "Requirement already satisfied: joblib>=1.1.1 in /usr/local/lib/python3.10/dist-packages (from scikit-learn!=0.22.0,>=0.16->hmmlearn) (1.3.2)\n",
            "Requirement already satisfied: threadpoolctl>=2.0.0 in /usr/local/lib/python3.10/dist-packages (from scikit-learn!=0.22.0,>=0.16->hmmlearn) (3.2.0)\n",
            "Installing collected packages: hmmlearn\n",
            "Successfully installed hmmlearn-0.3.0\n",
            "Generated Samples:\n",
            "[[5.28320911 3.99038062 1.16297068 0.17414756]\n",
            " [5.11822672 3.63606427 1.67169913 0.1470836 ]\n",
            " [5.39229785 3.47082515 1.3885139  0.44048052]\n",
            " [5.0014381  3.75320045 1.50631065 0.21743567]\n",
            " [4.90200207 3.53136189 1.52193991 0.16588075]]\n"
          ]
        }
      ],
      "source": [
        "!pip install hmmlearn\n",
        "\n",
        "from sklearn import datasets\n",
        "from hmmlearn import hmm\n",
        "import numpy as np\n",
        "\n",
        "# Loading Iris dataset\n",
        "iris = datasets.load_iris()\n",
        "X = iris.data\n",
        "\n",
        "\n",
        "# Training the HMM model\n",
        "model = hmm.GaussianHMM(n_components=3, covariance_type=\"full\", n_iter=100)\n",
        "model.fit(X)\n",
        "\n",
        "# Generating a sequence of observations from the model\n",
        "generated_samples, _ = model.sample(5)\n",
        "\n",
        "print(\"Generated Samples:\")\n",
        "print(generated_samples)\n"
      ]
    }
  ]
}